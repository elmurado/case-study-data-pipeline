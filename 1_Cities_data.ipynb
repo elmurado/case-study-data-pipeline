{
 "cells": [
  {
   "cell_type": "markdown",
   "id": "019442d4-3376-447c-8ad1-db205c7ffbfd",
   "metadata": {},
   "source": [
    "# Extract data from web and push it to the database"
   ]
  },
  {
   "cell_type": "markdown",
   "id": "88e9c61a-f818-48ea-a9d9-9bc3d9d5031c",
   "metadata": {},
   "source": [
    "## 1. Webscraping city data from wikipedia.com"
   ]
  },
  {
   "cell_type": "code",
   "execution_count": null,
   "id": "6be5dfb2-87b4-497e-950d-39472cca41b4",
   "metadata": {},
   "outputs": [],
   "source": [
    "#!pip install lat_lon_parser"
   ]
  },
  {
   "cell_type": "code",
   "execution_count": null,
   "id": "183a88db-ddd2-47b2-b346-2afc93059765",
   "metadata": {},
   "outputs": [],
   "source": [
    "import pandas as pd\n",
    "import requests\n",
    "from bs4 import BeautifulSoup\n",
    "from lat_lon_parser import parse    # We will need latitude and longitude in a decimal format to retrieve information on weather and airports."
   ]
  },
  {
   "cell_type": "code",
   "execution_count": null,
   "id": "311590f1-0fc9-4f6c-ae38-e1bcb67bf986",
   "metadata": {},
   "outputs": [],
   "source": [
    "def cities_dataframe(cities):\n",
    "\n",
    "  city_data = []\n",
    "\n",
    "  for city in cities:\n",
    "    url = f\"https://www.wikipedia.org/wiki/{city}\"\n",
    "    response = requests.get(url)\n",
    "    city_soup = BeautifulSoup(response.content, 'html.parser')\n",
    "\n",
    "    # extract the relevant information\n",
    "    city_latitude = city_soup.find(class_=\"latitude\").get_text()\n",
    "    city_longitude = city_soup.find(class_=\"longitude\").get_text()\n",
    "    country = city_soup.find(class_=\"infobox-data\").get_text()\n",
    "\n",
    "    # keep track of data per city\n",
    "    city_data.append({\"City\": city,\n",
    "                    \"Country\": country,\n",
    "                    \"Latitude\": parse(city_latitude), # latitude in decimal format\n",
    "                    \"Longitude\": parse(city_longitude), # longitude in decimal format\n",
    "                    })\n",
    "\n",
    "  return pd.DataFrame(city_data)"
   ]
  },
  {
   "cell_type": "markdown",
   "id": "06183d35-1529-4ae5-9d6a-8acf300acc37",
   "metadata": {},
   "source": [
    "### Call the function"
   ]
  },
  {
   "cell_type": "code",
   "execution_count": null,
   "id": "f2016d59-b3ad-4ca5-bc51-8261960f4a57",
   "metadata": {},
   "outputs": [],
   "source": [
    "list_of_cities = [\"Berlin\", \"Hamburg\", \"Munich\"]\n",
    "\n",
    "cities_df = cities_dataframe(list_of_cities)\n",
    "cities_df"
   ]
  },
  {
   "cell_type": "markdown",
   "id": "ad998aa7-7d1a-4be8-9e7b-29c7f36f212b",
   "metadata": {},
   "source": [
    "### Download cities_df as .csv file"
   ]
  },
  {
   "cell_type": "code",
   "execution_count": null,
   "id": "2d072c22-88fe-4314-9d4b-a5a55a55220a",
   "metadata": {},
   "outputs": [],
   "source": [
    "cities_df.to_csv('cities.csv')"
   ]
  },
  {
   "cell_type": "markdown",
   "id": "4652c7c1-eb52-4efe-8be4-25007c872987",
   "metadata": {},
   "source": [
    "## 2. Push the data to MySQL"
   ]
  },
  {
   "cell_type": "code",
   "execution_count": null,
   "id": "d91a81d4-34b4-438d-b5d0-f685fde2856a",
   "metadata": {},
   "outputs": [],
   "source": [
    "import sqlalchemy"
   ]
  },
  {
   "cell_type": "code",
   "execution_count": null,
   "id": "7cfa9994-4d87-47bd-877e-aaeb7ec86040",
   "metadata": {},
   "outputs": [],
   "source": [
    "# import .csv file\n",
    "cities_df = pd.read_csv(\"cities.csv\")"
   ]
  },
  {
   "cell_type": "code",
   "execution_count": null,
   "id": "021134c6-616f-498c-b46d-5752c85e25ea",
   "metadata": {},
   "outputs": [],
   "source": [
    "from keys import MySQL_pass"
   ]
  },
  {
   "cell_type": "markdown",
   "id": "8df20e99-c677-4fef-9f5d-49d7ebe931ac",
   "metadata": {},
   "source": [
    "### Establishment of connection with the SQL database"
   ]
  },
  {
   "cell_type": "code",
   "execution_count": null,
   "id": "2f4ec322-de1f-4ac6-85ec-2f867ccb7a97",
   "metadata": {},
   "outputs": [],
   "source": [
    "schema = \"gans_data\"\n",
    "host = \"127.0.0.1\"\n",
    "user = \"root\"\n",
    "password = MySQL_pass\n",
    "port = 3306\n",
    "\n",
    "connection_string = f'mysql+pymysql://{user}:{password}@{host}:{port}/{schema}'"
   ]
  },
  {
   "cell_type": "markdown",
   "id": "8ef8a8e5-202d-417d-93f0-d755db1b064f",
   "metadata": {},
   "source": [
    "### Push the cities_df to the empty \"cities\" table in the MySQL database"
   ]
  },
  {
   "cell_type": "code",
   "execution_count": null,
   "id": "7de44736-fae0-4161-9594-576d02238f0b",
   "metadata": {},
   "outputs": [],
   "source": [
    "cities_df.to_sql('cities',\n",
    "                  if_exists='append',\n",
    "                  con=connection_string,\n",
    "                  index=False)"
   ]
  },
  {
   "cell_type": "markdown",
   "id": "366e1423-24c3-47e0-acf6-0cf795932fe5",
   "metadata": {
    "jupyter": {
     "source_hidden": true
    }
   },
   "source": [
    "## SUCCESS!"
   ]
  }
 ],
 "metadata": {
  "kernelspec": {
   "display_name": "Python [conda env:base] *",
   "language": "python",
   "name": "conda-base-py"
  },
  "language_info": {
   "codemirror_mode": {
    "name": "ipython",
    "version": 3
   },
   "file_extension": ".py",
   "mimetype": "text/x-python",
   "name": "python",
   "nbconvert_exporter": "python",
   "pygments_lexer": "ipython3",
   "version": "3.12.7"
  }
 },
 "nbformat": 4,
 "nbformat_minor": 5
}
