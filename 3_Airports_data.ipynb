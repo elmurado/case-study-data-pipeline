{
 "cells": [
  {
   "cell_type": "code",
   "execution_count": 93,
   "metadata": {
    "id": "lIYdn1woOS1n"
   },
   "outputs": [],
   "source": [
    "import pandas as pd\n",
    "import requests\n",
    "from keys import MySQL_pass\n",
    "from keys import AeroDatabox\n",
    "import sqlalchemy\n",
    "from IPython.display import JSON"
   ]
  },
  {
   "cell_type": "code",
   "execution_count": 95,
   "metadata": {
    "id": "QGDQoIP6z8tR",
    "tags": []
   },
   "outputs": [],
   "source": [
    "def icao_airport_codes():\n",
    "\n",
    "    schema = \"gans_data\" # The name of your database\n",
    "    host = \"127.0.0.1\"\n",
    "    user = \"root\"\n",
    "    password = MySQL_pass # Your MySQL password\n",
    "    port = 3306\n",
    "\n",
    "    connection_string = f'mysql+pymysql://{user}:{password}@{host}:{port}/{schema}'\n",
    "\n",
    "    cities_df = pd.read_sql(\"cities\", con=connection_string)\n",
    "\n",
    "    list_for_df = []\n",
    "\n",
    "    for _, city in cities_df.iterrows():\n",
    "        latitude = city[\"Latitude\"]\n",
    "        longitude = city[\"Longitude\"]\n",
    "        city_id = city[\"city_id\"]\n",
    "\n",
    "        url = \"https://aerodatabox.p.rapidapi.com/airports/search/location\"\n",
    "\n",
    "        querystring = {\"lat\":latitude,\"lon\":longitude,\"radiusKm\":\"50\",\"limit\":\"5\",\"withFlightInfoOnly\":\"true\"}\n",
    "        headers = {\n",
    "          \"X-RapidAPI-Host\": \"aerodatabox.p.rapidapi.com\",\n",
    "          \"X-RapidAPI-Key\": AeroDatabox #USE THE PROVIDED KEY\n",
    "        }\n",
    "\n",
    "        response = requests.get(url, headers=headers, params=querystring)\n",
    "\n",
    "        for item in response.json()['items']:\n",
    "            airports_data = {\n",
    "            \"city_id\": city_id,\n",
    "            \"icao\": item.get(\"icao\", None),\n",
    "            \"municipality_name\": item.get(\"municipalityName\", None)\n",
    "        }\n",
    "\n",
    "\n",
    "        list_for_df.append(airports_data)\n",
    "\n",
    "    airports_df = pd.DataFrame(list_for_df)\n",
    "\n",
    "    return airports_df"
   ]
  },
  {
   "cell_type": "code",
   "execution_count": 97,
   "metadata": {
    "id": "9CeLqacJz8tR",
    "outputId": "856b09f3-3aae-4c6c-d275-091b7c54f71f"
   },
   "outputs": [
    {
     "data": {
      "text/html": [
       "<div>\n",
       "<style scoped>\n",
       "    .dataframe tbody tr th:only-of-type {\n",
       "        vertical-align: middle;\n",
       "    }\n",
       "\n",
       "    .dataframe tbody tr th {\n",
       "        vertical-align: top;\n",
       "    }\n",
       "\n",
       "    .dataframe thead th {\n",
       "        text-align: right;\n",
       "    }\n",
       "</style>\n",
       "<table border=\"1\" class=\"dataframe\">\n",
       "  <thead>\n",
       "    <tr style=\"text-align: right;\">\n",
       "      <th></th>\n",
       "      <th>city_id</th>\n",
       "      <th>icao</th>\n",
       "      <th>municipality_name</th>\n",
       "    </tr>\n",
       "  </thead>\n",
       "  <tbody>\n",
       "    <tr>\n",
       "      <th>0</th>\n",
       "      <td>1</td>\n",
       "      <td>EDDB</td>\n",
       "      <td>Berlin</td>\n",
       "    </tr>\n",
       "    <tr>\n",
       "      <th>1</th>\n",
       "      <td>2</td>\n",
       "      <td>EDDH</td>\n",
       "      <td>Hamburg</td>\n",
       "    </tr>\n",
       "    <tr>\n",
       "      <th>2</th>\n",
       "      <td>3</td>\n",
       "      <td>EDDM</td>\n",
       "      <td>Munich</td>\n",
       "    </tr>\n",
       "    <tr>\n",
       "      <th>3</th>\n",
       "      <td>4</td>\n",
       "      <td>EDDB</td>\n",
       "      <td>Berlin</td>\n",
       "    </tr>\n",
       "    <tr>\n",
       "      <th>4</th>\n",
       "      <td>5</td>\n",
       "      <td>EDDH</td>\n",
       "      <td>Hamburg</td>\n",
       "    </tr>\n",
       "    <tr>\n",
       "      <th>5</th>\n",
       "      <td>6</td>\n",
       "      <td>EDDM</td>\n",
       "      <td>Munich</td>\n",
       "    </tr>\n",
       "  </tbody>\n",
       "</table>\n",
       "</div>"
      ],
      "text/plain": [
       "   city_id  icao municipality_name\n",
       "0        1  EDDB            Berlin\n",
       "1        2  EDDH           Hamburg\n",
       "2        3  EDDM            Munich\n",
       "3        4  EDDB            Berlin\n",
       "4        5  EDDH           Hamburg\n",
       "5        6  EDDM            Munich"
      ]
     },
     "execution_count": 97,
     "metadata": {},
     "output_type": "execute_result"
    }
   ],
   "source": [
    "airports_df = icao_airport_codes()\n",
    "airports_df"
   ]
  },
  {
   "cell_type": "markdown",
   "metadata": {
    "id": "XiogJtzEz8tR"
   },
   "source": [
    "### Push the \"airports_to_db\" to the empty \"airports\" table in the database"
   ]
  },
  {
   "cell_type": "code",
   "execution_count": 100,
   "metadata": {
    "id": "mtGLEwp2z8tR"
   },
   "outputs": [],
   "source": [
    "schema = \"gans_data\" # The name of your database\n",
    "host = \"127.0.0.1\"\n",
    "user = \"root\"\n",
    "password = MySQL_pass # Your MySQL password\n",
    "port = 3306\n",
    "\n",
    "connection_string = f'mysql+pymysql://{user}:{password}@{host}:{port}/{schema}'"
   ]
  },
  {
   "cell_type": "code",
   "execution_count": null,
   "metadata": {},
   "outputs": [],
   "source": [
    "airports_df.to_sql('airports',\n",
    "                  if_exists='append',\n",
    "                  con=connection_string,\n",
    "                  index=False)"
   ]
  },
  {
   "cell_type": "markdown",
   "metadata": {},
   "source": [
    "### SUCCESS!"
   ]
  }
 ],
 "metadata": {
  "colab": {
   "provenance": []
  },
  "kernelspec": {
   "display_name": "Python [conda env:base] *",
   "language": "python",
   "name": "conda-base-py"
  },
  "language_info": {
   "codemirror_mode": {
    "name": "ipython",
    "version": 3
   },
   "file_extension": ".py",
   "mimetype": "text/x-python",
   "name": "python",
   "nbconvert_exporter": "python",
   "pygments_lexer": "ipython3",
   "version": "3.12.7"
  }
 },
 "nbformat": 4,
 "nbformat_minor": 4
}
